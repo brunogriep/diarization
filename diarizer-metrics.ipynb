{
 "cells": [
  {
   "cell_type": "code",
   "execution_count": 1,
   "metadata": {},
   "outputs": [
    {
     "name": "stdout",
     "output_type": "stream",
     "text": [
      "Populating the interactive namespace from numpy and matplotlib\n"
     ]
    }
   ],
   "source": [
    "%pylab inline\n",
    "\n",
    "import json\n",
    "import os\n",
    "from pyannote.core import Annotation, Segment"
   ]
  },
  {
   "cell_type": "code",
   "execution_count": 2,
   "metadata": {},
   "outputs": [],
   "source": [
    "from pyannote.metrics.diarization import DiarizationErrorRate"
   ]
  },
  {
   "cell_type": "code",
   "execution_count": 3,
   "metadata": {},
   "outputs": [],
   "source": [
    "reference_path = '/home/bruno/datasets/mixed-musan/'\n",
    "hypothesis_path = 'output-files/mixed-musan/'\n",
    "metrics_path = 'output-files/metrics/'\n",
    "\n",
    "if not os.path.isdir(hypothesis_path):\n",
    "    os.makedirs(hypothesis_path)\n",
    "if not os.path.isdir(metrics_path):\n",
    "    os.makedirs(metrics_path)"
   ]
  },
  {
   "cell_type": "code",
   "execution_count": 4,
   "metadata": {},
   "outputs": [
    {
     "data": {
      "text/plain": [
       "['/home/bruno/datasets/mixed-musan/two_speakers_0.json',\n",
       " '/home/bruno/datasets/mixed-musan/two_speakers_1.json',\n",
       " '/home/bruno/datasets/mixed-musan/two_speakers_10.json',\n",
       " '/home/bruno/datasets/mixed-musan/two_speakers_11.json',\n",
       " '/home/bruno/datasets/mixed-musan/two_speakers_12.json']"
      ]
     },
     "execution_count": 4,
     "metadata": {},
     "output_type": "execute_result"
    }
   ],
   "source": [
    "reference_json_files = []\n",
    "for path, dirs, files in os.walk(reference_path):\n",
    "    for file in files:\n",
    "        if file.endswith('.json'):\n",
    "            reference_json_files.append(os.path.join(path,file))\n",
    "reference_json_files = sorted(reference_json_files)\n",
    "reference_json_files[0:5]"
   ]
  },
  {
   "cell_type": "code",
   "execution_count": 5,
   "metadata": {},
   "outputs": [
    {
     "data": {
      "text/plain": [
       "['output-files/mixed-musan/two_speakers_0.wav.json',\n",
       " 'output-files/mixed-musan/two_speakers_1.wav.json',\n",
       " 'output-files/mixed-musan/two_speakers_10.wav.json',\n",
       " 'output-files/mixed-musan/two_speakers_11.wav.json',\n",
       " 'output-files/mixed-musan/two_speakers_12.wav.json']"
      ]
     },
     "execution_count": 5,
     "metadata": {},
     "output_type": "execute_result"
    }
   ],
   "source": [
    "hypothesis_json_files = []\n",
    "for path, dirs, files in os.walk(hypothesis_path):\n",
    "    for file in files:\n",
    "        if file.endswith('.json'):\n",
    "            hypothesis_json_files.append(os.path.join(path,file))\n",
    "hypothesis_json_files = sorted(hypothesis_json_files)\n",
    "hypothesis_json_files[0:5]"
   ]
  },
  {
   "cell_type": "code",
   "execution_count": 26,
   "metadata": {},
   "outputs": [],
   "source": [
    "def get_Annotation(path):\n",
    "    annotation = Annotation()\n",
    "    with open(path) as f:\n",
    "        data = json.load(f)\n",
    "    for i in range(len(data)):\n",
    "        t0 = data[i][\"start\"]\n",
    "        (h, m, s) = t0.split(':')\n",
    "        start = float(h) * 3600 + float(m) * 60 + float(s)\n",
    "\n",
    "        t1 = data[i][\"end\"]\n",
    "        (h, m, s) = t1.split(':')\n",
    "        end = float(h) * 3600 + float(m) * 60 + float(s)\n",
    "\n",
    "        annotation[Segment(start,end)] = data[i][\"speaker\"]\n",
    "    return annotation, end"
   ]
  },
  {
   "cell_type": "code",
   "execution_count": 7,
   "metadata": {},
   "outputs": [],
   "source": [
    "tst = get_Annotation(hypothesis_json_files[0])"
   ]
  },
  {
   "cell_type": "code",
   "execution_count": 27,
   "metadata": {},
   "outputs": [
    {
     "name": "stdout",
     "output_type": "stream",
     "text": [
      "53\n",
      "two_speakers_0 two_speakers_0\n",
      "two_speakers_1 two_speakers_1\n",
      "two_speakers_10 two_speakers_10\n",
      "two_speakers_11 two_speakers_11\n",
      "two_speakers_12 two_speakers_12\n",
      "two_speakers_13 two_speakers_13\n",
      "two_speakers_14 two_speakers_14\n",
      "two_speakers_15 two_speakers_15\n",
      "two_speakers_16 two_speakers_16\n",
      "two_speakers_17 two_speakers_17\n",
      "two_speakers_18 two_speakers_18\n",
      "two_speakers_19 two_speakers_19\n",
      "two_speakers_2 two_speakers_2\n",
      "two_speakers_20 two_speakers_20\n",
      "two_speakers_21 two_speakers_21\n",
      "two_speakers_22 two_speakers_22\n",
      "two_speakers_23 two_speakers_23\n",
      "two_speakers_24 two_speakers_24\n",
      "two_speakers_25 two_speakers_25\n",
      "two_speakers_26 two_speakers_26\n",
      "two_speakers_27 two_speakers_27\n",
      "two_speakers_28 two_speakers_28\n",
      "two_speakers_29 two_speakers_29\n",
      "two_speakers_3 two_speakers_3\n",
      "two_speakers_30 two_speakers_30\n",
      "two_speakers_31 two_speakers_31\n",
      "two_speakers_32 two_speakers_32\n",
      "two_speakers_33 two_speakers_33\n",
      "two_speakers_34 two_speakers_34\n",
      "two_speakers_35 two_speakers_35\n",
      "two_speakers_36 two_speakers_36\n",
      "two_speakers_37 two_speakers_37\n",
      "two_speakers_38 two_speakers_38\n",
      "two_speakers_39 two_speakers_39\n",
      "two_speakers_4 two_speakers_4\n",
      "two_speakers_40 two_speakers_40\n",
      "two_speakers_41 two_speakers_41\n",
      "two_speakers_42 two_speakers_42\n",
      "two_speakers_43 two_speakers_43\n",
      "two_speakers_44 two_speakers_44\n",
      "two_speakers_45 two_speakers_45\n",
      "two_speakers_46 two_speakers_46\n",
      "two_speakers_47 two_speakers_47\n",
      "two_speakers_48 two_speakers_48\n",
      "two_speakers_49 two_speakers_49\n",
      "two_speakers_5 two_speakers_5\n",
      "two_speakers_50 two_speakers_50\n",
      "two_speakers_51 two_speakers_51\n",
      "two_speakers_52 two_speakers_52\n",
      "two_speakers_53 two_speakers_53\n",
      "two_speakers_54 two_speakers_54\n",
      "two_speakers_55 two_speakers_55\n",
      "two_speakers_56 two_speakers_56\n"
     ]
    }
   ],
   "source": [
    "idx = min(len(hypothesis_json_files), len(reference_json_files))\n",
    "metricsDER = []\n",
    "print(idx)\n",
    "#diarizationErrorRate = DiarizationErrorRate()\n",
    "\n",
    "for i in range(idx):\n",
    "    diarizationErrorRate = DiarizationErrorRate()\n",
    "\n",
    "    hp = hypothesis_json_files[i].split('/')[-1].split('.')[0]\n",
    "    rf = reference_json_files[i].split('/')[-1].split('.')[0]\n",
    "    if hp == rf:\n",
    "        print(rf,hp)\n",
    "        hypothesis, end = get_Annotation(hypothesis_json_files[i])\n",
    "        reference, _ = get_Annotation(reference_json_files[i])\n",
    "        \n",
    "        components = diarizationErrorRate(reference, hypothesis, detailed=True, uem=Segment(0,end))\n",
    "        components['audio filename'] = rf\n",
    "        metricsDER.append(components['diarization error rate'])\n",
    "        \n",
    "        with open(os.path.join(metrics_path, rf + '.json'), 'w') as f:\n",
    "            json.dump(components, f, indent=4)"
   ]
  },
  {
   "cell_type": "code",
   "execution_count": 28,
   "metadata": {},
   "outputs": [
    {
     "data": {
      "text/plain": [
       "[0.22073863029251126,\n",
       " 0.3677145851516809,\n",
       " 0.2048296909680748,\n",
       " 0.08303920502739062,\n",
       " 0.4003170499270657,\n",
       " 0.25543285117841885,\n",
       " 0.4511270213604318,\n",
       " 0.10546047071924927,\n",
       " 0.3973154959379232,\n",
       " 0.2599536687005889,\n",
       " 0.1979677934603089,\n",
       " 0.40302103176656323,\n",
       " 0.3189020250217785,\n",
       " 0.0966148861554887,\n",
       " 0.31889784654016473,\n",
       " 0.26787802812315625,\n",
       " 0.2107138169645327,\n",
       " 0.492588230807418,\n",
       " 0.48190447115530155,\n",
       " 0.6332334868959252,\n",
       " 0.07963843536524255,\n",
       " 0.4069370238049981,\n",
       " 0.07498902744269999,\n",
       " 0.2946615961446351,\n",
       " 0.25343636157093136,\n",
       " 0.14894456583219726,\n",
       " 0.35472586801855854,\n",
       " 0.1146393745093693,\n",
       " 0.18066292114449264,\n",
       " 0.5559008070030821,\n",
       " 0.35959208934573555,\n",
       " 0.2960252476527674,\n",
       " 0.2727050853087989,\n",
       " 0.46879905842341785,\n",
       " 0.22385353193438637,\n",
       " 0.13078470824949612,\n",
       " 0.09369238169402617,\n",
       " 0.15908388706595528,\n",
       " 0.2749322230828796,\n",
       " 0.1493864104443278,\n",
       " 0.10165041560102363,\n",
       " 0.2228870599842616,\n",
       " 0.19909946996598418,\n",
       " 0.39632340271745314,\n",
       " 0.519854080188286,\n",
       " 0.44702665038323436,\n",
       " 0.36968251488221254,\n",
       " 0.52376465557772,\n",
       " 0.12243204816497667,\n",
       " 0.29187916830129484,\n",
       " 0.3185677029674406,\n",
       " 0.08528421596995343,\n",
       " 0.08131251798096266]"
      ]
     },
     "execution_count": 28,
     "metadata": {},
     "output_type": "execute_result"
    }
   ],
   "source": [
    "metricsDER"
   ]
  },
  {
   "cell_type": "code",
   "execution_count": 33,
   "metadata": {},
   "outputs": [
    {
     "name": "stdout",
     "output_type": "stream",
     "text": [
      "mean DER: 0.2781283923184297 %\n",
      "max DER:  0.6332334868959252 %\n",
      "min DER:  0.07498902744269999 %\n"
     ]
    }
   ],
   "source": [
    "meanDER = np.mean(metricsDER)\n",
    "maxDER = np.max(metricsDER)\n",
    "minDER = np.min(metricsDER)\n",
    "\n",
    "print('mean DER:', meanDER, '%')\n",
    "print('max DER: ', maxDER, '%')\n",
    "print('min DER: ', minDER, '%')"
   ]
  }
 ],
 "metadata": {
  "kernelspec": {
   "display_name": "diarization",
   "language": "python",
   "name": "diarization"
  },
  "language_info": {
   "codemirror_mode": {
    "name": "ipython",
    "version": 3
   },
   "file_extension": ".py",
   "mimetype": "text/x-python",
   "name": "python",
   "nbconvert_exporter": "python",
   "pygments_lexer": "ipython3",
   "version": "3.6.5"
  }
 },
 "nbformat": 4,
 "nbformat_minor": 2
}
