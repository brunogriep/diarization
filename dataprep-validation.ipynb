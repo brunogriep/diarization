{
 "cells": [
  {
   "cell_type": "code",
   "execution_count": 1,
   "metadata": {},
   "outputs": [],
   "source": [
    "import os, time\n",
    "import librosa\n",
    "import matplotlib.pyplot as plt\n",
    "import librosa.display\n",
    "import numpy as np\n",
    "import json\n",
    "import datetime"
   ]
  },
  {
   "cell_type": "code",
   "execution_count": 2,
   "metadata": {},
   "outputs": [],
   "source": [
    "data_path = '/home/bruno/datasets/musan/speech/librivox/'\n",
    "save_path = '/home/bruno/datasets/mixed-musan/wav16/'\n",
    "json_annotation_path = '/home/bruno/datasets/mixed-musan/'\n",
    "\n",
    "if not os.path.isdir(save_path):\n",
    "    os.makedirs(save_path)\n",
    "if not os.path.isdir(json_annotation_path):\n",
    "    os.makedirs(json_annotation_path)"
   ]
  },
  {
   "cell_type": "code",
   "execution_count": 3,
   "metadata": {},
   "outputs": [],
   "source": [
    "all_speakers = []\n",
    "for path, dirs, files in sorted(os.walk(data_path)):\n",
    "    for file in files:\n",
    "        if file.endswith('.wav'):\n",
    "            all_speakers.append(os.path.join(path,file))\n",
    "\n",
    "speaker_0 = all_speakers[0:][::2]\n",
    "speaker_1 = all_speakers[1:][::2]"
   ]
  },
  {
   "cell_type": "code",
   "execution_count": 4,
   "metadata": {},
   "outputs": [],
   "source": [
    "sr = 16000\n",
    "max_utt = min(len(speaker_0), len(speaker_1))\n",
    "\n",
    "utter = np.empty(shape=[0, ])\n",
    "#json_data = []\n",
    "\n",
    "for i in range(max_utt):\n",
    "    json_data = []\n",
    "    \n",
    "    utter0, rate = librosa.core.load(speaker_0[i],sr=sr)     \n",
    "    intervals = librosa.effects.split(utter0, top_db=25)         # voice activity detection\n",
    "    \n",
    "    for idx, current_interval in enumerate(intervals):\n",
    "        start = str(datetime.timedelta(seconds = current_interval[0]/sr))\n",
    "        end = str(datetime.timedelta(seconds = current_interval[1]/sr))\n",
    "        json_data.append({\n",
    "            'start': start,\n",
    "            'end': end,\n",
    "            'speaker':0\n",
    "        })\n",
    "    final_utter0 = utter0.shape[0]/sr   \n",
    "    \n",
    "    utter1, rate = librosa.core.load(speaker_1[i],sr=sr)     \n",
    "    intervals = librosa.effects.split(utter1, top_db=25)         # voice activity detection\n",
    "    \n",
    "    for idx, current_interval in enumerate(intervals):\n",
    "        start = str(datetime.timedelta(seconds = final_utter0 + current_interval[0]/sr))\n",
    "        end = str(datetime.timedelta(seconds = final_utter0 + current_interval[1]/sr))\n",
    "        json_data.append({\n",
    "            'start': start,\n",
    "            'end': end,\n",
    "            'speaker':1\n",
    "        })\n",
    "        \n",
    "    #utter = np.concatenate((utter0, utter1), axis=0)\n",
    "    #output_wav = os.path.join(save_path, 'two_speakers_' + str(i) + '.wav')\n",
    "    #librosa.output.write_wav(output_wav, utter, sr)\n",
    "    \n",
    "    output_json = os.path.join(json_annotation_path,'two_speakers_' + str(i) + '.json')\n",
    "    with open(output_json,'w') as f:\n",
    "        json.dump(json_data,f,indent=4)"
   ]
  },
  {
   "cell_type": "code",
   "execution_count": null,
   "metadata": {},
   "outputs": [],
   "source": [
    "sr = 16000\n",
    "utter1, rate = librosa.core.load(speaker_0[0],sr=sr)\n",
    "plt.figure()\n",
    "plt.subplot(3,1,1)\n",
    "librosa.display.waveplot(utter1,sr)\n",
    "plt.title('Wave 1')\n",
    "\n",
    "utter2, rate = librosa.core.load(speaker_1[0],sr=sr)\n",
    "plt.figure()\n",
    "plt.subplot(3,1,2)\n",
    "librosa.display.waveplot(utter2,sr)\n",
    "plt.title('Wave 2')\n",
    "\n",
    "utter3 = np.concatenate((utter1, utter2), axis=0)\n",
    "plt.figure()\n",
    "plt.subplot(3,1,3)\n",
    "librosa.display.waveplot(utter3,sr)\n",
    "plt.title('Wave 1 + Wave 2')"
   ]
  },
  {
   "cell_type": "code",
   "execution_count": null,
   "metadata": {},
   "outputs": [],
   "source": []
  }
 ],
 "metadata": {
  "kernelspec": {
   "display_name": "Python 3",
   "language": "python",
   "name": "python3"
  },
  "language_info": {
   "codemirror_mode": {
    "name": "ipython",
    "version": 3
   },
   "file_extension": ".py",
   "mimetype": "text/x-python",
   "name": "python",
   "nbconvert_exporter": "python",
   "pygments_lexer": "ipython3",
   "version": "3.6.8"
  }
 },
 "nbformat": 4,
 "nbformat_minor": 2
}
